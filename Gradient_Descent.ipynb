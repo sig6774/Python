{
  "nbformat": 4,
  "nbformat_minor": 0,
  "metadata": {
    "colab": {
      "name": "Week10(Gradient Descent).ipynb",
      "provenance": [],
      "machine_shape": "hm"
    },
    "kernelspec": {
      "name": "python3",
      "display_name": "Python 3"
    },
    "language_info": {
      "name": "python"
    }
  },
  "cells": [
    {
      "cell_type": "markdown",
      "metadata": {
        "id": "8__83eUcMszX"
      },
      "source": [
        "# Least Squares Regression"
      ]
    },
    {
      "cell_type": "code",
      "metadata": {
        "id": "fnCXVJXUMMQW"
      },
      "source": [
        "import numpy as np\n",
        "import random \n",
        "import matplotlib.pyplot as plt "
      ],
      "execution_count": null,
      "outputs": []
    },
    {
      "cell_type": "code",
      "metadata": {
        "colab": {
          "base_uri": "https://localhost:8080/",
          "height": 69
        },
        "id": "n0Xb8LwSNAIc",
        "outputId": "8a949c87-4b6a-4684-f610-87e9bc50ac8a"
      },
      "source": [
        "''' 어떤 Parameter를 최소화할 수 있는지 생각 \n",
        "- 최소화하고 싶은 parameter의 함수를 미분하여 최소가 되는 값을 도출하는 것 \n",
        "- Regression의 예측값과 실제값의 차이(오차)를 최소화하고자 하는 것 \n",
        "- 오차의 거리를 측정하는 방법은 다양함 \n",
        "  - 피타고라스 정의에 따른 유클리드 거리 (제곱)\n",
        "  - 맨하탄 거리 (절대값)\n",
        "\n",
        "Error Minimize \n",
        "- 방법 \n",
        "  - Error함수의 미분값을 업데이트하면서 Error를 줄여나가는 것 \n",
        "'''"
      ],
      "execution_count": null,
      "outputs": [
        {
          "output_type": "execute_result",
          "data": {
            "application/vnd.google.colaboratory.intrinsic+json": {
              "type": "string"
            },
            "text/plain": [
              "' 어떤 Parameter를 최소화할 수 있는지 생각 \\n- 최소화하고 싶은 parameter의 함수를 미분하여 최소가 되는 값을 도출하는 것 \\n- Regression의 예측값과 실제값의 차이(오차)를 최소화하고자 하는 것 \\n- 오차의 거리를 측정하는 방법은 다양함 \\n  - 피타고라스 정의에 따른 유클리드 거리 (제곱)\\n  - 맨하탄 거리 (절대값)\\n\\nError Minimize \\n- 방법 \\n  - Error함수의 미분값을 업데이트하면서 Error를 줄여나가는 것 \\n'"
            ]
          },
          "metadata": {},
          "execution_count": 2
        }
      ]
    },
    {
      "cell_type": "markdown",
      "metadata": {
        "id": "5m0wp4w3WzpA"
      },
      "source": [
        "# Y = ax + b 문제를 Gradient Descent를 활용하여 풀기"
      ]
    },
    {
      "cell_type": "code",
      "metadata": {
        "id": "QLAvt04ZNqXq"
      },
      "source": [
        "a = 1 \n",
        "b = 0.5 \n",
        "n = 100\n",
        "xmin, xmax = 1, 10\n",
        "# 초기 파라미터"
      ],
      "execution_count": null,
      "outputs": []
    },
    {
      "cell_type": "code",
      "metadata": {
        "id": "Y220TvBNYZHh"
      },
      "source": [
        "def f(x, a, b):\n",
        "  return a*x + b\n",
        "\n",
        "vf = np.vectorize(f)\n",
        "# vector화해줌 "
      ],
      "execution_count": null,
      "outputs": []
    },
    {
      "cell_type": "code",
      "metadata": {
        "colab": {
          "base_uri": "https://localhost:8080/"
        },
        "id": "FS6r7W8OYf5x",
        "outputId": "9ab131fe-1496-4df3-d41a-af2ab8f7909c"
      },
      "source": [
        "xs = np.random.uniform(xmin, xmax, n)\n",
        "# min, max사이에 n개의 x를 도출 \n",
        "print('xs : ', xs)\n",
        "\n",
        "# 랜덤하게 x값 도출 \n",
        "# ys = [] \n",
        "# for x in xs:\n",
        "#   ys.append(f(x,a,b))\n",
        "#   # 이것도 가능 \n",
        "\n",
        "ys = vf(xs, a, b) \n",
        "print('ys : ', ys)"
      ],
      "execution_count": null,
      "outputs": [
        {
          "output_type": "stream",
          "name": "stdout",
          "text": [
            "xs :  [9.86413239 3.17723192 6.24574467 3.29955299 6.03095895 4.14739788\n",
            " 4.91822376 2.08434279 2.23991278 1.11973916 8.13286606 5.09095811\n",
            " 8.92162946 1.60974541 4.36620018 1.94741741 1.63860148 9.42993623\n",
            " 6.1711591  8.46582958 5.24244213 6.13972942 3.39609226 9.27003882\n",
            " 2.18288506 2.95428907 6.37417761 8.93021399 2.32353794 9.36039576\n",
            " 7.73593926 3.31250966 1.80942101 7.26800081 2.74477467 2.54555028\n",
            " 7.81875687 2.2240805  8.09590894 5.65568803 5.26547207 3.19664455\n",
            " 4.67706774 3.33279449 3.0095892  2.0457032  2.77705083 7.94068842\n",
            " 4.73636019 8.72945067 9.75880469 9.91739279 9.56661776 3.20007634\n",
            " 7.18986329 4.20948768 2.11465365 9.50797027 6.95912606 4.63063254\n",
            " 8.10385237 5.15403945 7.12937148 7.0024446  5.40482922 5.44678048\n",
            " 8.06995246 2.71717215 8.72166398 4.05770986 5.42238705 8.47673092\n",
            " 9.02358467 5.60112591 2.89372479 4.11407257 4.29188537 6.86070196\n",
            " 1.84636677 6.10588002 5.9282258  1.71847847 4.58157208 8.61592972\n",
            " 3.27366341 5.40999161 1.22401998 1.58716311 5.87973281 2.19782875\n",
            " 9.04623335 4.41209104 8.94642061 9.9643487  9.74429092 2.12633328\n",
            " 9.60052728 9.87357636 9.39064075 8.50095455]\n",
            "ys :  [10.36413239  3.67723192  6.74574467  3.79955299  6.53095895  4.64739788\n",
            "  5.41822376  2.58434279  2.73991278  1.61973916  8.63286606  5.59095811\n",
            "  9.42162946  2.10974541  4.86620018  2.44741741  2.13860148  9.92993623\n",
            "  6.6711591   8.96582958  5.74244213  6.63972942  3.89609226  9.77003882\n",
            "  2.68288506  3.45428907  6.87417761  9.43021399  2.82353794  9.86039576\n",
            "  8.23593926  3.81250966  2.30942101  7.76800081  3.24477467  3.04555028\n",
            "  8.31875687  2.7240805   8.59590894  6.15568803  5.76547207  3.69664455\n",
            "  5.17706774  3.83279449  3.5095892   2.5457032   3.27705083  8.44068842\n",
            "  5.23636019  9.22945067 10.25880469 10.41739279 10.06661776  3.70007634\n",
            "  7.68986329  4.70948768  2.61465365 10.00797027  7.45912606  5.13063254\n",
            "  8.60385237  5.65403945  7.62937148  7.5024446   5.90482922  5.94678048\n",
            "  8.56995246  3.21717215  9.22166398  4.55770986  5.92238705  8.97673092\n",
            "  9.52358467  6.10112591  3.39372479  4.61407257  4.79188537  7.36070196\n",
            "  2.34636677  6.60588002  6.4282258   2.21847847  5.08157208  9.11592972\n",
            "  3.77366341  5.90999161  1.72401998  2.08716311  6.37973281  2.69782875\n",
            "  9.54623335  4.91209104  9.44642061 10.4643487  10.24429092  2.62633328\n",
            " 10.10052728 10.37357636  9.89064075  9.00095455]\n"
          ]
        }
      ]
    },
    {
      "cell_type": "code",
      "metadata": {
        "colab": {
          "base_uri": "https://localhost:8080/",
          "height": 265
        },
        "id": "jCEapZMTY560",
        "outputId": "90bdd3a8-af37-416c-e321-4d15d371d2af"
      },
      "source": [
        "plt.plot(xs, ys);\n",
        "# 노이즈가 없음 "
      ],
      "execution_count": null,
      "outputs": [
        {
          "output_type": "display_data",
          "data": {
            "image/png": "[encoded data removed]",
            "text/plain": [
              "<Figure size 432x288 with 1 Axes>"
            ]
          },
          "metadata": {
            "needs_background": "light"
          }
        }
      ]
    },
    {
      "cell_type": "code",
      "metadata": {
        "colab": {
          "base_uri": "https://localhost:8080/"
        },
        "id": "RkqxJ78MZ6_V",
        "outputId": "ee6fd85b-c50b-4b6c-dfd8-e6dac268f217"
      },
      "source": [
        "# 노이즈 추가 \n",
        "ys = vf(xs, a, b) + np.random.normal(0,1,n)\n",
        "print('ys : ', ys) "
      ],
      "execution_count": null,
      "outputs": [
        {
          "output_type": "stream",
          "name": "stdout",
          "text": [
            "ys :  [ 9.07369835  3.08596818  7.87429043  3.43589095  5.83634654  5.16265366\n",
            "  5.5696505   1.05789263  2.08070918  3.12754718  8.56445672  6.26486385\n",
            " 10.55131749  1.65018636  4.61800109  3.1237621   2.72274618 10.92673971\n",
            "  7.73076772  8.05290192  6.75923772  7.3032082   4.44764853  9.65419037\n",
            "  2.80072588  6.60833603  7.17444846  8.56117594  3.22309922 11.30776724\n",
            "  8.36169927  5.09526969  2.45313564  8.32019026  4.10424694  3.05712219\n",
            "  8.61618913  2.28946633  8.72002518  4.84083925  6.45161688  2.16050544\n",
            "  4.87766878  3.11372749  2.18886946  0.74222286  5.14893567  8.67980762\n",
            "  6.51962992  9.45863893 10.33973001 10.62656522  9.42303805  3.60839122\n",
            "  7.15291602  5.10523867  2.07516056  8.95070563  7.47117659  6.41683332\n",
            "  7.43673366  6.61178138  9.55851555  8.44831     6.9206675   7.05182496\n",
            "  8.33178858  3.84760846 10.14612789  3.09053821  5.19460072  7.31971088\n",
            "  9.54277768  6.32912377  4.27803335  4.45513466  5.45891652  6.74211119\n",
            "  1.39464824  6.83511688  6.21905784  3.22765745  4.56040053  8.21535339\n",
            "  2.86275758  6.15922484  0.52762837  1.75523397  6.71393466  3.17284808\n",
            "  9.88042002  4.1484578   7.7275433  12.01334479 11.97562195  2.78318835\n",
            "  9.02269939 10.59746193  8.60984824  8.271914  ]\n"
          ]
        }
      ]
    },
    {
      "cell_type": "code",
      "metadata": {
        "colab": {
          "base_uri": "https://localhost:8080/",
          "height": 265
        },
        "id": "F1tu4dlkaG3M",
        "outputId": "a654c776-a4d5-4b2e-8719-340f9b0e3663"
      },
      "source": [
        "plt.plot(xs, ys, '.');\n",
        "# 노이즈 추가 "
      ],
      "execution_count": null,
      "outputs": [
        {
          "output_type": "display_data",
          "data": {
            "image/png": "[encoded data removed]",
            "text/plain": [
              "<Figure size 432x288 with 1 Axes>"
            ]
          },
          "metadata": {
            "needs_background": "light"
          }
        }
      ]
    },
    {
      "cell_type": "code",
      "metadata": {
        "colab": {
          "base_uri": "https://localhost:8080/"
        },
        "id": "VvSTXROuaTGh",
        "outputId": "96fc25fb-407b-4505-d518-209b55d3c869"
      },
      "source": [
        "import time \n",
        "\n",
        "Best_A, Best_B = None, None\n",
        "Best_loss = 1e9\n",
        "t0 = time.time()\n",
        "\n",
        "lossesBysearch = []\n",
        "\n",
        "for aa in np.arange(-100, 100, 0.1):\n",
        "  for bb in np.arange(-100, 100, 0.1):\n",
        "    # 파라미터를 개별로 지정 \n",
        "    \n",
        "    yys = f(xs, aa, bb)\n",
        "    # x값에 랜덤한 기울기와 절편을 넣어서 예측값 도출 \n",
        "    loss = ((yys - ys)**2).sum()\n",
        "    lossesBysearch.append(loss)\n",
        "    if loss < Best_loss:\n",
        "      Best_A, Best_B = aa, bb\n",
        "      Best_loss = loss\n",
        "\n",
        "t = time.time()\n",
        "print('truth : ', a,b)\n",
        "print('Predict : ', Best_A, Best_B)\n",
        "print('time : ', t - t0)\n",
        "# 랜덤한 a,b를 내가 정한 함수에 넣어서 해당 파라미터를 조정하는 것을 보여줌 "
      ],
      "execution_count": null,
      "outputs": [
        {
          "output_type": "stream",
          "name": "stdout",
          "text": [
            "truth :  1 0.5\n",
            "Predict :  0.9999999999942588 0.5999999999942816\n",
            "time :  37.7195827960968\n"
          ]
        }
      ]
    },
    {
      "cell_type": "code",
      "metadata": {
        "colab": {
          "base_uri": "https://localhost:8080/",
          "height": 306
        },
        "id": "VbsoM9UcjFsp",
        "outputId": "1848ccb7-534c-4763-91ae-976842bbeb1e"
      },
      "source": [
        "plt.plot(lossesBysearch)\n",
        "# 어느순간 한번 미니멈을 찍은 것을 보여줌 "
      ],
      "execution_count": null,
      "outputs": [
        {
          "output_type": "execute_result",
          "data": {
            "text/plain": [
              "[<matplotlib.lines.Line2D at 0x7fb4fe322fd0>]"
            ]
          },
          "metadata": {},
          "execution_count": 11
        },
        {
          "output_type": "display_data",
          "data": {
            "image/png": "[encoded data removed]",
            "text/plain": [
              "<Figure size 432x288 with 1 Axes>"
            ]
          },
          "metadata": {
            "needs_background": "light"
          }
        }
      ]
    },
    {
      "cell_type": "code",
      "metadata": {
        "colab": {
          "base_uri": "https://localhost:8080/",
          "height": 282
        },
        "id": "UoNAW0GxbG65",
        "outputId": "cde0651f-40bc-4442-e63f-e5e0149dffe6"
      },
      "source": [
        "plt.plot(xs, ys, '.')\n",
        "plt.plot([xmin, xmax], [f(xmin, a, b), f(xmax, a, b)])"
      ],
      "execution_count": null,
      "outputs": [
        {
          "output_type": "execute_result",
          "data": {
            "text/plain": [
              "[<matplotlib.lines.Line2D at 0x7fb4f61bcb90>]"
            ]
          },
          "metadata": {},
          "execution_count": 12
        },
        {
          "output_type": "display_data",
          "data": {
            "image/png": "[encoded data removed]",
            "text/plain": [
              "<Figure size 432x288 with 1 Axes>"
            ]
          },
          "metadata": {
            "needs_background": "light"
          }
        }
      ]
    },
    {
      "cell_type": "code",
      "metadata": {
        "colab": {
          "base_uri": "https://localhost:8080/",
          "height": 282
        },
        "id": "z0masrWCcP8X",
        "outputId": "d53d9f32-afb0-4770-8c48-3120fcfbc057"
      },
      "source": [
        "plt.plot(xs, ys, '.')\n",
        "xxs = np.linspace(xmin, xmax, 100)\n",
        "yBest = f(xxs, Best_A, Best_B)\n",
        "yTrue = f(xxs, a, b)\n",
        "plt.plot(xxs, yTrue)\n",
        "plt.plot(xxs, yBest)\n",
        "# 최대한 유사하게 찾은 것을 볼 수 있음 "
      ],
      "execution_count": null,
      "outputs": [
        {
          "output_type": "execute_result",
          "data": {
            "text/plain": [
              "[<matplotlib.lines.Line2D at 0x7fb4f61325d0>]"
            ]
          },
          "metadata": {},
          "execution_count": 13
        },
        {
          "output_type": "display_data",
          "data": {
            "image/png": "[encoded data removed]",
            "text/plain": [
              "<Figure size 432x288 with 1 Axes>"
            ]
          },
          "metadata": {
            "needs_background": "light"
          }
        }
      ]
    },
    {
      "cell_type": "markdown",
      "metadata": {
        "id": "_P6ft0_XdMAn"
      },
      "source": [
        "# 함수 미분 "
      ]
    },
    {
      "cell_type": "code",
      "metadata": {
        "id": "xObcvK23clG-"
      },
      "source": [
        "def df_a(x, a, b):\n",
        "  return x\n",
        "# a에 대한 미분 \n",
        "def df_b(x, a, b):\n",
        "  return 1\n",
        "# b에 대한 미분 \n",
        "\n",
        "\n",
        "def gradF(x, a, b):\n",
        "  return (x, 1)"
      ],
      "execution_count": null,
      "outputs": []
    },
    {
      "cell_type": "markdown",
      "metadata": {
        "id": "H0vW5I-040n9"
      },
      "source": [
        "# Gradient Descent 알고리즘"
      ]
    },
    {
      "cell_type": "code",
      "metadata": {
        "colab": {
          "base_uri": "https://localhost:8080/"
        },
        "id": "eXrn1iaxhETx",
        "outputId": "a864d95f-c25f-4243-ed9d-1a6ef2b6b053"
      },
      "source": [
        "t0 = time.time()\n",
        "fitA, fitB = -100, 100\n",
        "# 초기값 \n",
        "eta = 0.0001\n",
        "# 조정값 \n",
        "lossgrad = []\n",
        "a = []\n",
        "b = []\n",
        "\n",
        "for i in range(10000):\n",
        "\n",
        "  yys =  f(xs, fitA, fitB)\n",
        "  # 전체 데이터를 통해 예측값 도출 \n",
        "\n",
        "  grad_A, grad_B = gradF(xs, fitA, fitB)\n",
        "  # a,b의 미분값을 도출 \n",
        "\n",
        "  fitA = fitA - eta * ((yys - ys) * grad_A).sum()\n",
        "  # a에 대한 값을 조정해나가는 과정 \n",
        "  fitB = fitB - eta * ((yys - ys) * grad_B).sum()\n",
        "  # b에 대한 값을 조정해나가는 과정 \n",
        "\n",
        "  # 이부분 다시 생각 \n",
        "  \n",
        "  loss = ((yys - ys) ** 2).sum()\n",
        "  lossgrad.append(loss)\n",
        "\n",
        "\n",
        "t = time.time()\n",
        "print('truth : ', a,b)\n",
        "print('fit result : ', fitA, fitB)\n",
        "print('time : ', t - t0)\n",
        "# 랜덤한 a,b를 내가 정한 함수에 넣어서 해당 파라미터를 조정하는 것을 보여줌 "
      ],
      "execution_count": null,
      "outputs": [
        {
          "output_type": "stream",
          "name": "stdout",
          "text": [
            "truth :  "
          ]
        },
        {
          "output_type": "stream",
          "name": "stderr",
          "text": [
            "IOPub data rate exceeded.\n",
            "The notebook server will temporarily stop sending output\n",
            "to the client in order to avoid crashing it.\n",
            "To change this limit, set the config variable\n",
            "`--NotebookApp.iopub_data_rate_limit`.\n",
            "\n",
            "Current values:\n",
            "NotebookApp.iopub_data_rate_limit=1000000.0 (bytes/sec)\n",
            "NotebookApp.rate_limit_window=3.0 (secs)\n",
            "\n"
          ]
        }
      ]
    },
    {
      "cell_type": "code",
      "metadata": {
        "colab": {
          "base_uri": "https://localhost:8080/"
        },
        "id": "gv2UG0qa5nQm",
        "outputId": "8f8c56f7-eaaf-4c4f-caee-b46335a4319a"
      },
      "source": [
        "xs"
      ],
      "execution_count": null,
      "outputs": [
        {
          "output_type": "execute_result",
          "data": {
            "text/plain": [
              "array([9.86413239, 3.17723192, 6.24574467, 3.29955299, 6.03095895,\n",
              "       4.14739788, 4.91822376, 2.08434279, 2.23991278, 1.11973916,\n",
              "       8.13286606, 5.09095811, 8.92162946, 1.60974541, 4.36620018,\n",
              "       1.94741741, 1.63860148, 9.42993623, 6.1711591 , 8.46582958,\n",
              "       5.24244213, 6.13972942, 3.39609226, 9.27003882, 2.18288506,\n",
              "       2.95428907, 6.37417761, 8.93021399, 2.32353794, 9.36039576,\n",
              "       7.73593926, 3.31250966, 1.80942101, 7.26800081, 2.74477467,\n",
              "       2.54555028, 7.81875687, 2.2240805 , 8.09590894, 5.65568803,\n",
              "       5.26547207, 3.19664455, 4.67706774, 3.33279449, 3.0095892 ,\n",
              "       2.0457032 , 2.77705083, 7.94068842, 4.73636019, 8.72945067,\n",
              "       9.75880469, 9.91739279, 9.56661776, 3.20007634, 7.18986329,\n",
              "       4.20948768, 2.11465365, 9.50797027, 6.95912606, 4.63063254,\n",
              "       8.10385237, 5.15403945, 7.12937148, 7.0024446 , 5.40482922,\n",
              "       5.44678048, 8.06995246, 2.71717215, 8.72166398, 4.05770986,\n",
              "       5.42238705, 8.47673092, 9.02358467, 5.60112591, 2.89372479,\n",
              "       4.11407257, 4.29188537, 6.86070196, 1.84636677, 6.10588002,\n",
              "       5.9282258 , 1.71847847, 4.58157208, 8.61592972, 3.27366341,\n",
              "       5.40999161, 1.22401998, 1.58716311, 5.87973281, 2.19782875,\n",
              "       9.04623335, 4.41209104, 8.94642061, 9.9643487 , 9.74429092,\n",
              "       2.12633328, 9.60052728, 9.87357636, 9.39064075, 8.50095455])"
            ]
          },
          "metadata": {},
          "execution_count": 19
        }
      ]
    },
    {
      "cell_type": "code",
      "metadata": {
        "colab": {
          "base_uri": "https://localhost:8080/"
        },
        "id": "Jmp9udiW5h0Y",
        "outputId": "4c706d55-693b-4290-b201-17eb7f12a6a6"
      },
      "source": [
        "a[:5]"
      ],
      "execution_count": null,
      "outputs": [
        {
          "output_type": "execute_result",
          "data": {
            "text/plain": [
              "[array([9.86413239, 3.17723192, 6.24574467, 3.29955299, 6.03095895,\n",
              "        4.14739788, 4.91822376, 2.08434279, 2.23991278, 1.11973916,\n",
              "        8.13286606, 5.09095811, 8.92162946, 1.60974541, 4.36620018,\n",
              "        1.94741741, 1.63860148, 9.42993623, 6.1711591 , 8.46582958,\n",
              "        5.24244213, 6.13972942, 3.39609226, 9.27003882, 2.18288506,\n",
              "        2.95428907, 6.37417761, 8.93021399, 2.32353794, 9.36039576,\n",
              "        7.73593926, 3.31250966, 1.80942101, 7.26800081, 2.74477467,\n",
              "        2.54555028, 7.81875687, 2.2240805 , 8.09590894, 5.65568803,\n",
              "        5.26547207, 3.19664455, 4.67706774, 3.33279449, 3.0095892 ,\n",
              "        2.0457032 , 2.77705083, 7.94068842, 4.73636019, 8.72945067,\n",
              "        9.75880469, 9.91739279, 9.56661776, 3.20007634, 7.18986329,\n",
              "        4.20948768, 2.11465365, 9.50797027, 6.95912606, 4.63063254,\n",
              "        8.10385237, 5.15403945, 7.12937148, 7.0024446 , 5.40482922,\n",
              "        5.44678048, 8.06995246, 2.71717215, 8.72166398, 4.05770986,\n",
              "        5.42238705, 8.47673092, 9.02358467, 5.60112591, 2.89372479,\n",
              "        4.11407257, 4.29188537, 6.86070196, 1.84636677, 6.10588002,\n",
              "        5.9282258 , 1.71847847, 4.58157208, 8.61592972, 3.27366341,\n",
              "        5.40999161, 1.22401998, 1.58716311, 5.87973281, 2.19782875,\n",
              "        9.04623335, 4.41209104, 8.94642061, 9.9643487 , 9.74429092,\n",
              "        2.12633328, 9.60052728, 9.87357636, 9.39064075, 8.50095455]),\n",
              " array([9.86413239, 3.17723192, 6.24574467, 3.29955299, 6.03095895,\n",
              "        4.14739788, 4.91822376, 2.08434279, 2.23991278, 1.11973916,\n",
              "        8.13286606, 5.09095811, 8.92162946, 1.60974541, 4.36620018,\n",
              "        1.94741741, 1.63860148, 9.42993623, 6.1711591 , 8.46582958,\n",
              "        5.24244213, 6.13972942, 3.39609226, 9.27003882, 2.18288506,\n",
              "        2.95428907, 6.37417761, 8.93021399, 2.32353794, 9.36039576,\n",
              "        7.73593926, 3.31250966, 1.80942101, 7.26800081, 2.74477467,\n",
              "        2.54555028, 7.81875687, 2.2240805 , 8.09590894, 5.65568803,\n",
              "        5.26547207, 3.19664455, 4.67706774, 3.33279449, 3.0095892 ,\n",
              "        2.0457032 , 2.77705083, 7.94068842, 4.73636019, 8.72945067,\n",
              "        9.75880469, 9.91739279, 9.56661776, 3.20007634, 7.18986329,\n",
              "        4.20948768, 2.11465365, 9.50797027, 6.95912606, 4.63063254,\n",
              "        8.10385237, 5.15403945, 7.12937148, 7.0024446 , 5.40482922,\n",
              "        5.44678048, 8.06995246, 2.71717215, 8.72166398, 4.05770986,\n",
              "        5.42238705, 8.47673092, 9.02358467, 5.60112591, 2.89372479,\n",
              "        4.11407257, 4.29188537, 6.86070196, 1.84636677, 6.10588002,\n",
              "        5.9282258 , 1.71847847, 4.58157208, 8.61592972, 3.27366341,\n",
              "        5.40999161, 1.22401998, 1.58716311, 5.87973281, 2.19782875,\n",
              "        9.04623335, 4.41209104, 8.94642061, 9.9643487 , 9.74429092,\n",
              "        2.12633328, 9.60052728, 9.87357636, 9.39064075, 8.50095455]),\n",
              " array([9.86413239, 3.17723192, 6.24574467, 3.29955299, 6.03095895,\n",
              "        4.14739788, 4.91822376, 2.08434279, 2.23991278, 1.11973916,\n",
              "        8.13286606, 5.09095811, 8.92162946, 1.60974541, 4.36620018,\n",
              "        1.94741741, 1.63860148, 9.42993623, 6.1711591 , 8.46582958,\n",
              "        5.24244213, 6.13972942, 3.39609226, 9.27003882, 2.18288506,\n",
              "        2.95428907, 6.37417761, 8.93021399, 2.32353794, 9.36039576,\n",
              "        7.73593926, 3.31250966, 1.80942101, 7.26800081, 2.74477467,\n",
              "        2.54555028, 7.81875687, 2.2240805 , 8.09590894, 5.65568803,\n",
              "        5.26547207, 3.19664455, 4.67706774, 3.33279449, 3.0095892 ,\n",
              "        2.0457032 , 2.77705083, 7.94068842, 4.73636019, 8.72945067,\n",
              "        9.75880469, 9.91739279, 9.56661776, 3.20007634, 7.18986329,\n",
              "        4.20948768, 2.11465365, 9.50797027, 6.95912606, 4.63063254,\n",
              "        8.10385237, 5.15403945, 7.12937148, 7.0024446 , 5.40482922,\n",
              "        5.44678048, 8.06995246, 2.71717215, 8.72166398, 4.05770986,\n",
              "        5.42238705, 8.47673092, 9.02358467, 5.60112591, 2.89372479,\n",
              "        4.11407257, 4.29188537, 6.86070196, 1.84636677, 6.10588002,\n",
              "        5.9282258 , 1.71847847, 4.58157208, 8.61592972, 3.27366341,\n",
              "        5.40999161, 1.22401998, 1.58716311, 5.87973281, 2.19782875,\n",
              "        9.04623335, 4.41209104, 8.94642061, 9.9643487 , 9.74429092,\n",
              "        2.12633328, 9.60052728, 9.87357636, 9.39064075, 8.50095455]),\n",
              " array([9.86413239, 3.17723192, 6.24574467, 3.29955299, 6.03095895,\n",
              "        4.14739788, 4.91822376, 2.08434279, 2.23991278, 1.11973916,\n",
              "        8.13286606, 5.09095811, 8.92162946, 1.60974541, 4.36620018,\n",
              "        1.94741741, 1.63860148, 9.42993623, 6.1711591 , 8.46582958,\n",
              "        5.24244213, 6.13972942, 3.39609226, 9.27003882, 2.18288506,\n",
              "        2.95428907, 6.37417761, 8.93021399, 2.32353794, 9.36039576,\n",
              "        7.73593926, 3.31250966, 1.80942101, 7.26800081, 2.74477467,\n",
              "        2.54555028, 7.81875687, 2.2240805 , 8.09590894, 5.65568803,\n",
              "        5.26547207, 3.19664455, 4.67706774, 3.33279449, 3.0095892 ,\n",
              "        2.0457032 , 2.77705083, 7.94068842, 4.73636019, 8.72945067,\n",
              "        9.75880469, 9.91739279, 9.56661776, 3.20007634, 7.18986329,\n",
              "        4.20948768, 2.11465365, 9.50797027, 6.95912606, 4.63063254,\n",
              "        8.10385237, 5.15403945, 7.12937148, 7.0024446 , 5.40482922,\n",
              "        5.44678048, 8.06995246, 2.71717215, 8.72166398, 4.05770986,\n",
              "        5.42238705, 8.47673092, 9.02358467, 5.60112591, 2.89372479,\n",
              "        4.11407257, 4.29188537, 6.86070196, 1.84636677, 6.10588002,\n",
              "        5.9282258 , 1.71847847, 4.58157208, 8.61592972, 3.27366341,\n",
              "        5.40999161, 1.22401998, 1.58716311, 5.87973281, 2.19782875,\n",
              "        9.04623335, 4.41209104, 8.94642061, 9.9643487 , 9.74429092,\n",
              "        2.12633328, 9.60052728, 9.87357636, 9.39064075, 8.50095455]),\n",
              " array([9.86413239, 3.17723192, 6.24574467, 3.29955299, 6.03095895,\n",
              "        4.14739788, 4.91822376, 2.08434279, 2.23991278, 1.11973916,\n",
              "        8.13286606, 5.09095811, 8.92162946, 1.60974541, 4.36620018,\n",
              "        1.94741741, 1.63860148, 9.42993623, 6.1711591 , 8.46582958,\n",
              "        5.24244213, 6.13972942, 3.39609226, 9.27003882, 2.18288506,\n",
              "        2.95428907, 6.37417761, 8.93021399, 2.32353794, 9.36039576,\n",
              "        7.73593926, 3.31250966, 1.80942101, 7.26800081, 2.74477467,\n",
              "        2.54555028, 7.81875687, 2.2240805 , 8.09590894, 5.65568803,\n",
              "        5.26547207, 3.19664455, 4.67706774, 3.33279449, 3.0095892 ,\n",
              "        2.0457032 , 2.77705083, 7.94068842, 4.73636019, 8.72945067,\n",
              "        9.75880469, 9.91739279, 9.56661776, 3.20007634, 7.18986329,\n",
              "        4.20948768, 2.11465365, 9.50797027, 6.95912606, 4.63063254,\n",
              "        8.10385237, 5.15403945, 7.12937148, 7.0024446 , 5.40482922,\n",
              "        5.44678048, 8.06995246, 2.71717215, 8.72166398, 4.05770986,\n",
              "        5.42238705, 8.47673092, 9.02358467, 5.60112591, 2.89372479,\n",
              "        4.11407257, 4.29188537, 6.86070196, 1.84636677, 6.10588002,\n",
              "        5.9282258 , 1.71847847, 4.58157208, 8.61592972, 3.27366341,\n",
              "        5.40999161, 1.22401998, 1.58716311, 5.87973281, 2.19782875,\n",
              "        9.04623335, 4.41209104, 8.94642061, 9.9643487 , 9.74429092,\n",
              "        2.12633328, 9.60052728, 9.87357636, 9.39064075, 8.50095455])]"
            ]
          },
          "metadata": {},
          "execution_count": 20
        }
      ]
    },
    {
      "cell_type": "code",
      "metadata": {
        "colab": {
          "base_uri": "https://localhost:8080/"
        },
        "id": "HxJhaoiK5Uco",
        "outputId": "db802a74-818d-4403-df67-40d10cc452e9"
      },
      "source": [
        "print(a)\n",
        "print(b)"
      ],
      "execution_count": null,
      "outputs": [
        {
          "output_type": "stream",
          "name": "stderr",
          "text": [
            "IOPub data rate exceeded.\n",
            "The notebook server will temporarily stop sending output\n",
            "to the client in order to avoid crashing it.\n",
            "To change this limit, set the config variable\n",
            "`--NotebookApp.iopub_data_rate_limit`.\n",
            "\n",
            "Current values:\n",
            "NotebookApp.iopub_data_rate_limit=1000000.0 (bytes/sec)\n",
            "NotebookApp.rate_limit_window=3.0 (secs)\n",
            "\n"
          ]
        }
      ]
    },
    {
      "cell_type": "code",
      "metadata": {
        "colab": {
          "base_uri": "https://localhost:8080/",
          "height": 293
        },
        "id": "HdB6h1syiFFL",
        "outputId": "c247dbc4-2d0c-450d-d7bc-514e7d1d2d51"
      },
      "source": [
        "plt.plot(lossgrad, '.')\n",
        "# loss가 떨어지는 것을 볼 수 있음 "
      ],
      "execution_count": null,
      "outputs": [
        {
          "output_type": "execute_result",
          "data": {
            "text/plain": [
              "[<matplotlib.lines.Line2D at 0x7f36b3773090>]"
            ]
          },
          "metadata": {},
          "execution_count": 16
        },
        {
          "output_type": "display_data",
          "data": {
            "image/png": "[encoded data removed]",
            "text/plain": [
              "<Figure size 432x288 with 1 Axes>"
            ]
          },
          "metadata": {
            "needs_background": "light"
          }
        }
      ]
    },
    {
      "cell_type": "code",
      "metadata": {
        "colab": {
          "base_uri": "https://localhost:8080/",
          "height": 282
        },
        "id": "DG_mL9L9jSsl",
        "outputId": "8cd98cec-a958-46a2-d323-c64e67628d33"
      },
      "source": [
        "plt.plot(xs, ys, '.')\n",
        "xxs = np.linspace(xmin, xmax, 100)\n",
        "yBest = f(xxs, fitA, fitB)\n",
        "yScan = f(xxs, Best_A, Best_B)\n",
        "yTrue = f(xxs, a, b)\n",
        "plt.plot(xxs, yTrue)\n",
        "plt.plot(xxs, yBest)\n",
        "plt.plot(xxs, yScan)\n",
        "# 최대한 유사하게 찾은 것을 볼 수 있음 "
      ],
      "execution_count": null,
      "outputs": [
        {
          "output_type": "execute_result",
          "data": {
            "text/plain": [
              "[<matplotlib.lines.Line2D at 0x7f36b3179650>]"
            ]
          },
          "metadata": {},
          "execution_count": 20
        },
        {
          "output_type": "display_data",
          "data": {
            "image/png": "[encoded data removed]",
            "text/plain": [
              "<Figure size 432x288 with 1 Axes>"
            ]
          },
          "metadata": {
            "needs_background": "light"
          }
        }
      ]
    },
    {
      "cell_type": "code",
      "metadata": {
        "id": "R1JtSC_f1O1D"
      },
      "source": [
        "a = 1.2345\n",
        "b = 5.4757\n",
        "c = 91.1324\n",
        "n = 100\n",
        "xmin, xmax = -10, 10"
      ],
      "execution_count": null,
      "outputs": []
    },
    {
      "cell_type": "code",
      "metadata": {
        "id": "hz-dgAbszMVI"
      },
      "source": [
        "def f(x, a, b, c):\n",
        "  return a*x*x + b*x + c\n",
        "\n",
        "vf = np.vectorize(f)"
      ],
      "execution_count": null,
      "outputs": []
    },
    {
      "cell_type": "code",
      "metadata": {
        "id": "FKyyjxdT179Y"
      },
      "source": [
        "xs = np.random.uniform(xmin, xmax, n)\n",
        "ys = f(xs, a, b, c) + np.random.normal(0, 10, n)"
      ],
      "execution_count": null,
      "outputs": []
    },
    {
      "cell_type": "code",
      "metadata": {
        "colab": {
          "base_uri": "https://localhost:8080/",
          "height": 282
        },
        "id": "AoKh2WKR2HXj",
        "outputId": "bc4b4260-ca7d-48ad-d030-8dfaddd005f5"
      },
      "source": [
        "plt.plot(xs, ys, '.')"
      ],
      "execution_count": null,
      "outputs": [
        {
          "output_type": "execute_result",
          "data": {
            "text/plain": [
              "[<matplotlib.lines.Line2D at 0x7fb4f070cf90>]"
            ]
          },
          "metadata": {},
          "execution_count": 25
        },
        {
          "output_type": "display_data",
          "data": {
            "image/png": "[encoded data removed]",
            "text/plain": [
              "<Figure size 432x288 with 1 Axes>"
            ]
          },
          "metadata": {
            "needs_background": "light"
          }
        }
      ]
    },
    {
      "cell_type": "code",
      "metadata": {
        "colab": {
          "base_uri": "https://localhost:8080/",
          "height": 334
        },
        "id": "VFbze67C2Ls7",
        "outputId": "6b39c10c-78dc-499d-cf54-6ae65181151b"
      },
      "source": [
        "Best_A, Best_B = None, None\n",
        "Best_loss = 1e9\n",
        "t0 = time.time()\n",
        "\n",
        "lossesBysearch = []\n",
        "\n",
        "for aa in np.arange(-100, 100, 0.1):\n",
        "  for bb in np.arange(-100, 100, 0.1):\n",
        "    for cc in np.arange(-100, 100, 0.1):\n",
        "    # 파라미터를 개별로 지정 \n",
        "    # 3중 loop이기 때문에 컴퓨팅 시간이 오래걸림 \n",
        "    \n",
        "      yys = f(xs, aa, bb, cc)\n",
        "      # x값에 랜덤한 기울기와 절편을 넣어서 예측값 도출 \n",
        "      loss = ((yys - ys)**2).sum()\n",
        "      lossesBysearch.append(loss)\n",
        "      if loss < Best_loss:\n",
        "        Best_A, Best_B, Best_C = aa, bb, cc\n",
        "        Best_loss = loss\n",
        "\n",
        "t = time.time()\n",
        "print('truth : ', a,b,c)\n",
        "print('Predict : ', Best_A, Best_B, Best_C)\n",
        "print('time : ', t - t0)\n",
        "# 랜덤한 a,b를 내가 정한 함수에 넣어서 해당 파라미터를 조정하는 것을 보여줌 "
      ],
      "execution_count": null,
      "outputs": [
        {
          "output_type": "error",
          "ename": "KeyboardInterrupt",
          "evalue": "ignored",
          "traceback": [
            "\u001b[0;31m---------------------------------------------------------------------------\u001b[0m",
            "\u001b[0;31mKeyboardInterrupt\u001b[0m                         Traceback (most recent call last)",
            "\u001b[0;32m<ipython-input-26-e7692e2f22e3>\u001b[0m in \u001b[0;36m<module>\u001b[0;34m()\u001b[0m\n\u001b[1;32m     11\u001b[0m     \u001b[0;31m# 3중 loop이기 때문에 컴퓨팅 시간이 오래걸림\u001b[0m\u001b[0;34m\u001b[0m\u001b[0;34m\u001b[0m\u001b[0;34m\u001b[0m\u001b[0m\n\u001b[1;32m     12\u001b[0m \u001b[0;34m\u001b[0m\u001b[0m\n\u001b[0;32m---> 13\u001b[0;31m       \u001b[0myys\u001b[0m \u001b[0;34m=\u001b[0m \u001b[0mf\u001b[0m\u001b[0;34m(\u001b[0m\u001b[0mxs\u001b[0m\u001b[0;34m,\u001b[0m \u001b[0maa\u001b[0m\u001b[0;34m,\u001b[0m \u001b[0mbb\u001b[0m\u001b[0;34m,\u001b[0m \u001b[0mcc\u001b[0m\u001b[0;34m)\u001b[0m\u001b[0;34m\u001b[0m\u001b[0;34m\u001b[0m\u001b[0m\n\u001b[0m\u001b[1;32m     14\u001b[0m       \u001b[0;31m# x값에 랜덤한 기울기와 절편을 넣어서 예측값 도출\u001b[0m\u001b[0;34m\u001b[0m\u001b[0;34m\u001b[0m\u001b[0;34m\u001b[0m\u001b[0m\n\u001b[1;32m     15\u001b[0m       \u001b[0mloss\u001b[0m \u001b[0;34m=\u001b[0m \u001b[0;34m(\u001b[0m\u001b[0;34m(\u001b[0m\u001b[0myys\u001b[0m \u001b[0;34m-\u001b[0m \u001b[0mys\u001b[0m\u001b[0;34m)\u001b[0m\u001b[0;34m**\u001b[0m\u001b[0;36m2\u001b[0m\u001b[0;34m)\u001b[0m\u001b[0;34m.\u001b[0m\u001b[0msum\u001b[0m\u001b[0;34m(\u001b[0m\u001b[0;34m)\u001b[0m\u001b[0;34m\u001b[0m\u001b[0;34m\u001b[0m\u001b[0m\n",
            "\u001b[0;32m<ipython-input-23-b37d9004ba3a>\u001b[0m in \u001b[0;36mf\u001b[0;34m(x, a, b, c)\u001b[0m\n\u001b[1;32m      1\u001b[0m \u001b[0;32mdef\u001b[0m \u001b[0mf\u001b[0m\u001b[0;34m(\u001b[0m\u001b[0mx\u001b[0m\u001b[0;34m,\u001b[0m \u001b[0ma\u001b[0m\u001b[0;34m,\u001b[0m \u001b[0mb\u001b[0m\u001b[0;34m,\u001b[0m \u001b[0mc\u001b[0m\u001b[0;34m)\u001b[0m\u001b[0;34m:\u001b[0m\u001b[0;34m\u001b[0m\u001b[0;34m\u001b[0m\u001b[0m\n\u001b[0;32m----> 2\u001b[0;31m   \u001b[0;32mreturn\u001b[0m \u001b[0ma\u001b[0m\u001b[0;34m*\u001b[0m\u001b[0mx\u001b[0m\u001b[0;34m*\u001b[0m\u001b[0mx\u001b[0m \u001b[0;34m+\u001b[0m \u001b[0mb\u001b[0m\u001b[0;34m*\u001b[0m\u001b[0mx\u001b[0m \u001b[0;34m+\u001b[0m \u001b[0mc\u001b[0m\u001b[0;34m\u001b[0m\u001b[0;34m\u001b[0m\u001b[0m\n\u001b[0m\u001b[1;32m      3\u001b[0m \u001b[0;34m\u001b[0m\u001b[0m\n\u001b[1;32m      4\u001b[0m \u001b[0mvf\u001b[0m \u001b[0;34m=\u001b[0m \u001b[0mnp\u001b[0m\u001b[0;34m.\u001b[0m\u001b[0mvectorize\u001b[0m\u001b[0;34m(\u001b[0m\u001b[0mf\u001b[0m\u001b[0;34m)\u001b[0m\u001b[0;34m\u001b[0m\u001b[0;34m\u001b[0m\u001b[0m\n",
            "\u001b[0;31mKeyboardInterrupt\u001b[0m: "
          ]
        }
      ]
    },
    {
      "cell_type": "code",
      "metadata": {
        "id": "NbsQE3sl2spr"
      },
      "source": [
        "def gradF(x, a, b, c):\n",
        "  # y = a*x*x + b*x + c\n",
        "  return (x*x, x, 1)"
      ],
      "execution_count": null,
      "outputs": []
    },
    {
      "cell_type": "code",
      "metadata": {
        "colab": {
          "base_uri": "https://localhost:8080/"
        },
        "id": "FuXpiZVk4FIi",
        "outputId": "deb04aba-67d3-4f44-98de-9c4472b703f5"
      },
      "source": [
        "t0 = time.time()\n",
        "fitA, fitB, fitC = -10, -10, -10\n",
        "# 초기값 \n",
        "eta = 0.0000001\n",
        "# 조정값 \n",
        "lossgrad = []\n",
        "\n",
        "for i in range(10000):\n",
        "\n",
        "  yys =  f(xs, fitA, fitB, fitC)\n",
        "  # 전체 데이터를 통해 예측값 도출 \n",
        "\n",
        "  grad_A, grad_B, grad_C = gradF(xs, fitA, fitB, fitC)\n",
        "  # a,b의 미분값을 도출 \n",
        "\n",
        "  fitA = fitA - eta * ((yys - ys) * grad_A).sum()\n",
        "  # a에 대한 값을 조정해나가는 과정 \n",
        "  fitB = fitB - eta * ((yys - ys) * grad_B).sum()\n",
        "  # b에 대한 값을 조정해나가는 과정 \n",
        "  fitC = fitC - eta * ((yys - ys) * grad_C).sum()\n",
        "\n",
        "  # 이부분 다시 생각 \n",
        "  \n",
        "  loss = ((yys - ys) ** 2).sum()\n",
        "  lossgrad.append(loss)\n",
        "\n",
        "t = time.time()\n",
        "print('truth : ', a,b)\n",
        "print('fit result : ', fitA, fitB)\n",
        "print('time : ', t - t0)\n",
        "# 랜덤한 a,b를 내가 정한 함수에 넣어서 해당 파라미터를 조정하는 것을 보여줌 "
      ],
      "execution_count": null,
      "outputs": [
        {
          "output_type": "stream",
          "name": "stdout",
          "text": [
            "truth :  1.2345 5.4757\n",
            "fit result :  2.875410290214178 5.219515252762867\n",
            "time :  0.3041667938232422\n"
          ]
        }
      ]
    },
    {
      "cell_type": "code",
      "metadata": {
        "colab": {
          "base_uri": "https://localhost:8080/",
          "height": 293
        },
        "id": "5zo_f7WD4SwU",
        "outputId": "e0bccb91-d357-4199-b2b8-0c4342dcbb29"
      },
      "source": [
        "plt.plot(lossgrad, '.')\n",
        "# loss가 떨어지는 것을 볼 수 있음 "
      ],
      "execution_count": null,
      "outputs": [
        {
          "output_type": "execute_result",
          "data": {
            "text/plain": [
              "[<matplotlib.lines.Line2D at 0x7fb4ed335610>]"
            ]
          },
          "metadata": {},
          "execution_count": 29
        },
        {
          "output_type": "display_data",
          "data": {
            "image/png": "[encoded data removed]",
            "text/plain": [
              "<Figure size 432x288 with 1 Axes>"
            ]
          },
          "metadata": {
            "needs_background": "light"
          }
        }
      ]
    },
    {
      "cell_type": "code",
      "metadata": {
        "colab": {
          "base_uri": "https://localhost:8080/",
          "height": 285
        },
        "id": "mf11UNkl4gEj",
        "outputId": "6c8dcc94-84a5-45b4-bccc-5bf32694c320"
      },
      "source": [
        "plt.plot(xs, ys, '.')\n",
        "xxs = np.linspace(xmin, xmax, 100)\n",
        "yBest = f(xxs, fitA, fitB, fitC)\n",
        "yTrue = f(xxs, a, b, c)\n",
        "plt.plot(xxs, yTrue)\n",
        "plt.plot(xxs, yBest)\n",
        "# 최대한 유사하게 찾은 것을 볼 수 있음 "
      ],
      "execution_count": null,
      "outputs": [
        {
          "output_type": "execute_result",
          "data": {
            "text/plain": [
              "[<matplotlib.lines.Line2D at 0x7fb4ed32bd50>]"
            ]
          },
          "metadata": {},
          "execution_count": 30
        },
        {
          "output_type": "display_data",
          "data": {
            "image/png": "[encoded data removed]",
            "text/plain": [
              "<Figure size 432x288 with 1 Axes>"
            ]
          },
          "metadata": {
            "needs_background": "light"
          }
        }
      ]
    },
    {
      "cell_type": "code",
      "metadata": {
        "colab": {
          "base_uri": "https://localhost:8080/"
        },
        "id": "TXJjJZ-54jsd",
        "outputId": "abd4bf0b-340a-4d5f-d6c9-1cda56986079"
      },
      "source": [
        ""
      ],
      "execution_count": null,
      "outputs": [
        {
          "output_type": "execute_result",
          "data": {
            "text/plain": [
              "-0.5440211108893698"
            ]
          },
          "metadata": {},
          "execution_count": 34
        }
      ]
    },
    {
      "cell_type": "code",
      "metadata": {
        "id": "mmTflnaP6REA"
      },
      "source": [
        ""
      ],
      "execution_count": null,
      "outputs": []
    }
  ]
}